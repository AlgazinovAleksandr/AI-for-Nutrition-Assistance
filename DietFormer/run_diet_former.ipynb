{
 "cells": [
  {
   "cell_type": "code",
   "execution_count": 1,
   "id": "3784a53f",
   "metadata": {},
   "outputs": [],
   "source": [
    "from diet_former import run_the_diet_former"
   ]
  },
  {
   "cell_type": "markdown",
   "id": "ee1be963",
   "metadata": {},
   "source": [
    "### Example 1: The objective is to lose weight, no special requirements, no allergies, no dietary restrictions"
   ]
  },
  {
   "cell_type": "code",
   "execution_count": null,
   "id": "009f16eb",
   "metadata": {},
   "outputs": [
    {
     "name": "stdout",
     "output_type": "stream",
     "text": [
      "\u001b[33mUser\u001b[0m (to Nutritional_Assistant):\n",
      "\n",
      "I want to lose weight\n",
      "\n",
      "--------------------------------------------------------------------------------\n",
      "[autogen.oai.client: 07-01 11:27:20] {652} WARNING - Model shisa-ai/shisa-v2-llama3.3-70b:free is not found. The cost will be 0. In your config_list, add field {\"price\" : [prompt_price_per_1k, completion_token_price_per_1k]} for customized pricing.\n",
      "\u001b[33mNutritional_Assistant\u001b[0m (to User):\n",
      "\n",
      "Weight loss / fat loss TERMINATE\n",
      "\n",
      "--------------------------------------------------------------------------------\n",
      "Weight:   75.0 kg\n",
      "Height:   175.0 cm\n",
      "Age:      25 years\n",
      "Gender:   male\n",
      "Activity level—choose one (press Enter to skip):\n",
      "  1. Sedentary (little/no exercise)\n",
      "  2. Lightly active (1–3 days/week)\n",
      "  3. Moderately active (3–5 days/week)\n",
      "  4. Very active (6–7 days/week)\n",
      "  5. Extra active (hard exercise & physical job)\n",
      "Activity: Lightly active (1–3 days/week)\n",
      "Medical conditions: none\n",
      "Allergies/intolerances: none\n",
      "Diet preferences: none\n",
      "Meal pattern: (skipped)\n",
      "Calculated BMI: 24.5\n",
      "\u001b[33mUser\u001b[0m (to Diet_Former):\n",
      "\n",
      "The user goal is: Weight loss / fat loss; The user parameters are: The user is 25 years old a male weighs 75.0 kg and is 175.0 cm tall Their physical activity level is: lightly active (1–3 days/week). The calculated BMI is 24.5. They have the following medical condition(s): none. Reported food allergies or intolerances: none. Dietary preferences or restrictions: none. Meal pattern was not specified.; Please formulate a personalized diet plan based on the user's goal and parameters.\n",
      "\n",
      "--------------------------------------------------------------------------------\n",
      "[autogen.oai.client: 07-01 11:28:12] {652} WARNING - Model shisa-ai/shisa-v2-llama3.3-70b:free is not found. The cost will be 0. In your config_list, add field {\"price\" : [prompt_price_per_1k, completion_token_price_per_1k]} for customized pricing.\n",
      "\u001b[33mDiet_Former\u001b[0m (to User):\n",
      "\n",
      "descibing_the_diet = \"To achieve weight loss/fat loss as a 25-year-old male (75.0 kg, 175.0 cm, lightly active, BMI 24.5, no medical conditions/allergies/restrictions), target a daily calorie deficit of ~500 calories below maintenance (approx. 2550 calories/day). Aim for a macronutrient breakdown of 25% protein (118g), 40% carbs (255g), and 35% fats (98g). A sample day includes: **Breakfast**: Oatmeal (40g carbs, 15g protein) + berries + nuts (400kcal). **Lunch**: Grilled chicken breast (40g protein) with quinoa (30g carbs) and veggies (450kcal). **Dinner**: Baked salmon (35g protein) with sweet potato (30g carbs) and broccoli (400kcal). **Snacks**: Greek yogurt (15g protein) + apple/fistful of almonds (150kcal each). Include 16:8 intermittent fasting if comfortable (sleep during 8-hour window). Adjust portion sizes as needed to stay within daily calorie goal. TERMINATE\n",
      "\n",
      "--------------------------------------------------------------------------------\n"
     ]
    },
    {
     "data": {
      "text/plain": [
       "'descibing_the_diet = \"To achieve weight loss/fat loss as a 25-year-old male (75.0 kg, 175.0 cm, lightly active, BMI 24.5, no medical conditions/allergies/restrictions), target a daily calorie deficit of ~500 calories below maintenance (approx. 2550 calories/day). Aim for a macronutrient breakdown of 25% protein (118g), 40% carbs (255g), and 35% fats (98g). A sample day includes: **Breakfast**: Oatmeal (40g carbs, 15g protein) + berries + nuts (400kcal). **Lunch**: Grilled chicken breast (40g protein) with quinoa (30g carbs) and veggies (450kcal). **Dinner**: Baked salmon (35g protein) with sweet potato (30g carbs) and broccoli (400kcal). **Snacks**: Greek yogurt (15g protein) + apple/fistful of almonds (150kcal each). Include 16:8 intermittent fasting if comfortable (sleep during 8-hour window). Adjust portion sizes as needed to stay within daily calorie goal. '"
      ]
     },
     "execution_count": 3,
     "metadata": {},
     "output_type": "execute_result"
    }
   ],
   "source": [
    "run_the_diet_former('Diet_Outputs/diet1.txt')"
   ]
  },
  {
   "cell_type": "code",
   "execution_count": null,
   "id": "31df0aca",
   "metadata": {},
   "outputs": [
    {
     "name": "stdout",
     "output_type": "stream",
     "text": [
      "descibing_the_diet = \"To achieve weight loss/fat loss as a 25-year-old male (75.0 kg, 175.0 cm, lightly active, BMI 24.5\n",
      ", no medical conditions/allergies/restrictions), target a daily calorie deficit of ~500 calories below maintenance (appr\n",
      "ox. 2550 calories/day). Aim for a macronutrient breakdown of 25% protein (118g), 40% carbs (255g), and 35% fats (98g). A\n",
      " sample day includes: **Breakfast**: Oatmeal (40g carbs, 15g protein) + berries + nuts (400kcal). **Lunch**: Grilled chi\n",
      "cken breast (40g protein) with quinoa (30g carbs) and veggies (450kcal). **Dinner**: Baked salmon (35g protein) with swe\n",
      "et potato (30g carbs) and broccoli (400kcal). **Snacks**: Greek yogurt (15g protein) + apple/fistful of almonds (150kcal\n",
      " each). Include 16:8 intermittent fasting if comfortable (sleep during 8-hour window). Adjust portion sizes as needed to\n",
      " stay within daily calorie goal. \n"
     ]
    }
   ],
   "source": [
    "# Split the line by 120 characters to improve readibility\n",
    "with open('Diet_Outputs/diet1.txt', 'r') as f:\n",
    "    content = f.read()\n",
    "    for i in range(0, len(content), 120):\n",
    "        print(content[i:i+120])"
   ]
  },
  {
   "cell_type": "markdown",
   "id": "f8329c6c",
   "metadata": {},
   "source": [
    "### Example 2: The objective is to improve blood sugar control, but a person mentions that she really likes chocolate"
   ]
  },
  {
   "cell_type": "code",
   "execution_count": 7,
   "id": "28b26d7a",
   "metadata": {},
   "outputs": [
    {
     "name": "stdout",
     "output_type": "stream",
     "text": [
      "\u001b[33mUser\u001b[0m (to Nutritional_Assistant):\n",
      "\n",
      "There is too much sugar in my blood, and I want to decrease the amount\n",
      "\n",
      "--------------------------------------------------------------------------------\n",
      "[autogen.oai.client: 07-01 11:36:17] {652} WARNING - Model shisa-ai/shisa-v2-llama3.3-70b:free is not found. The cost will be 0. In your config_list, add field {\"price\" : [prompt_price_per_1k, completion_token_price_per_1k]} for customized pricing.\n",
      "\u001b[33mNutritional_Assistant\u001b[0m (to User):\n",
      "\n",
      "Improving blood sugar control / insulin sensitivity TERMINATE\n",
      "\n",
      "--------------------------------------------------------------------------------\n",
      "Weight:   65.0 kg\n",
      "Height:   165.0 cm\n",
      "Age:      19 years\n",
      "Gender:   female\n",
      "Activity level—choose one (press Enter to skip):\n",
      "  1. Sedentary (little/no exercise)\n",
      "  2. Lightly active (1–3 days/week)\n",
      "  3. Moderately active (3–5 days/week)\n",
      "  4. Very active (6–7 days/week)\n",
      "  5. Extra active (hard exercise & physical job)\n",
      "Activity: Moderately active (3–5 days/week)\n",
      "Medical conditions: none\n",
      "Allergies/intolerances: none\n",
      "Diet preferences: I really like chocolate\n",
      "Meal pattern: 3 meals + 1 snack\n",
      "Calculated BMI: 23.9\n",
      "\u001b[33mUser\u001b[0m (to Diet_Former):\n",
      "\n",
      "The user goal is: Improving blood sugar control / insulin sensitivity; The user parameters are: The user is 19 years old a female weighs 65.0 kg and is 165.0 cm tall Their physical activity level is: moderately active (3–5 days/week). The calculated BMI is 23.9. They have the following medical condition(s): none. Reported food allergies or intolerances: none. Dietary preferences or restrictions: I really like chocolate. Their typical meal pattern includes: 3 meals + 1 snack.; Please formulate a personalized diet plan based on the user's goal and parameters.\n",
      "\n",
      "--------------------------------------------------------------------------------\n",
      "[autogen.oai.client: 07-01 11:37:28] {652} WARNING - Model shisa-ai/shisa-v2-llama3.3-70b:free is not found. The cost will be 0. In your config_list, add field {\"price\" : [prompt_price_per_1k, completion_token_price_per_1k]} for customized pricing.\n",
      "\u001b[33mDiet_Former\u001b[0m (to User):\n",
      "\n",
      "descibing_the_diet = \"To improve blood sugar control and insulin sensitivity, your diet should focus on balanced meals with nutrient-dense foods, managed carbohydrate intake, and consistent eating intervals. Your daily calorie target is approximately 1900-2200 kcal (moderately active BMI-adjusted estimate). Aim for a macronutrient breakdown: 40% carbs (focusing on complex sources), 30% protein, and 30% fats (primarily unsaturated).  \n",
      "**Sample Day of Eating:**  \n",
      "**Breakfast (8:00 AM):** 1 cup Greek yogurt + 1/2 cup mixed berries + 15g almonds (300 kcal, 30g carbs, 20g protein, 15g fat)  \n",
      "**Mid-Morning Snack (10:30 AM):** Carrot sticks with 1 tbsp almond butter (150 kcal, 6g carbs, 4g protein, 12g fat)  \n",
      "**Lunch (1:30 PM):** 100g grilled chicken breast + 1 cup quinoa + steamed broccoli (400 kcal, 40g carbs, 40g protein, 10g fat)  \n",
      "**Dinner (6:30 PM):** Baked salmon (150g) + roasted sweet potatoes (150g) + green salad with olive oil (500 kcal, 60g carbs, 50g protein, 20g fat)  \n",
      "**Evening Snack (Optional, if needed):** 1 small square dark chocolate (85% cacao) + a handful of walnuts (150 kcal, 8g carbs, 3g protein, 12g fat)  \n",
      "**Timing:** Maintain 4-5 meal intervals (3 main meals + 1-2 snacks) with no extended fasts to stabilize blood sugar. Prioritize protein with each meal to enhance satiety and regulate glucose. Adjust portion sizes based on individual appetite and activity. Enjoy dark chocolate (85% cacao+) in moderation for your cravings.\"  \n",
      "TERMINATE\n",
      "\n",
      "--------------------------------------------------------------------------------\n"
     ]
    },
    {
     "data": {
      "text/plain": [
       "'descibing_the_diet = \"To improve blood sugar control and insulin sensitivity, your diet should focus on balanced meals with nutrient-dense foods, managed carbohydrate intake, and consistent eating intervals. Your daily calorie target is approximately 1900-2200 kcal (moderately active BMI-adjusted estimate). Aim for a macronutrient breakdown: 40% carbs (focusing on complex sources), 30% protein, and 30% fats (primarily unsaturated).  \\n**Sample Day of Eating:**  \\n**Breakfast (8:00 AM):** 1 cup Greek yogurt + 1/2 cup mixed berries + 15g almonds (300 kcal, 30g carbs, 20g protein, 15g fat)  \\n**Mid-Morning Snack (10:30 AM):** Carrot sticks with 1 tbsp almond butter (150 kcal, 6g carbs, 4g protein, 12g fat)  \\n**Lunch (1:30 PM):** 100g grilled chicken breast + 1 cup quinoa + steamed broccoli (400 kcal, 40g carbs, 40g protein, 10g fat)  \\n**Dinner (6:30 PM):** Baked salmon (150g) + roasted sweet potatoes (150g) + green salad with olive oil (500 kcal, 60g carbs, 50g protein, 20g fat)  \\n**Evening Snack (Optional, if needed):** 1 small square dark chocolate (85% cacao) + a handful of walnuts (150 kcal, 8g carbs, 3g protein, 12g fat)  \\n**Timing:** Maintain 4-5 meal intervals (3 main meals + 1-2 snacks) with no extended fasts to stabilize blood sugar. Prioritize protein with each meal to enhance satiety and regulate glucose. Adjust portion sizes based on individual appetite and activity. Enjoy dark chocolate (85% cacao+) in moderation for your cravings.\"  \\n'"
      ]
     },
     "execution_count": 7,
     "metadata": {},
     "output_type": "execute_result"
    }
   ],
   "source": [
    "run_the_diet_former('Diet_Outputs/diet2.txt')"
   ]
  },
  {
   "cell_type": "code",
   "execution_count": 8,
   "id": "b28a0743",
   "metadata": {},
   "outputs": [
    {
     "name": "stdout",
     "output_type": "stream",
     "text": [
      "descibing_the_diet = \"To improve blood sugar control and insulin sensitivity, your diet should focus on balanced meals w\n",
      "ith nutrient-dense foods, managed carbohydrate intake, and consistent eating intervals. Your daily calorie target is app\n",
      "roximately 1900-2200 kcal (moderately active BMI-adjusted estimate). Aim for a macronutrient breakdown: 40% carbs (focus\n",
      "ing on complex sources), 30% protein, and 30% fats (primarily unsaturated).  \n",
      "**Sample Day of Eating:**  \n",
      "**Breakfast (8\n",
      ":00 AM):** 1 cup Greek yogurt + 1/2 cup mixed berries + 15g almonds (300 kcal, 30g carbs, 20g protein, 15g fat)  \n",
      "**Mid-\n",
      "Morning Snack (10:30 AM):** Carrot sticks with 1 tbsp almond butter (150 kcal, 6g carbs, 4g protein, 12g fat)  \n",
      "**Lunch \n",
      "(1:30 PM):** 100g grilled chicken breast + 1 cup quinoa + steamed broccoli (400 kcal, 40g carbs, 40g protein, 10g fat)  \n",
      "\n",
      "**Dinner (6:30 PM):** Baked salmon (150g) + roasted sweet potatoes (150g) + green salad with olive oil (500 kcal, 60g c\n",
      "arbs, 50g protein, 20g fat)  \n",
      "**Evening Snack (Optional, if needed):** 1 small square dark chocolate (85% cacao) + a han\n",
      "dful of walnuts (150 kcal, 8g carbs, 3g protein, 12g fat)  \n",
      "**Timing:** Maintain 4-5 meal intervals (3 main meals + 1-2 \n",
      "snacks) with no extended fasts to stabilize blood sugar. Prioritize protein with each meal to enhance satiety and regula\n",
      "te glucose. Adjust portion sizes based on individual appetite and activity. Enjoy dark chocolate (85% cacao+) in moderat\n",
      "ion for your cravings.\"  \n",
      "\n"
     ]
    }
   ],
   "source": [
    "with open('Diet_Outputs/diet2.txt', 'r') as f:\n",
    "    content = f.read()\n",
    "    for i in range(0, len(content), 120):\n",
    "        print(content[i:i+120])"
   ]
  },
  {
   "cell_type": "markdown",
   "id": "432ca936",
   "metadata": {},
   "source": [
    "### Example 3: Irrelevant request"
   ]
  },
  {
   "cell_type": "code",
   "execution_count": 2,
   "id": "158c6b47",
   "metadata": {},
   "outputs": [
    {
     "name": "stdout",
     "output_type": "stream",
     "text": [
      "\u001b[33mUser\u001b[0m (to Nutritional_Assistant):\n",
      "\n",
      "Teach me how to dance\n",
      "\n",
      "--------------------------------------------------------------------------------\n",
      "\u001b[33mNutritional_Assistant\u001b[0m (to User):\n",
      "\n",
      "UNK TERMINATE\n",
      "\n",
      "--------------------------------------------------------------------------------\n",
      "I did not understand your request, please try again or contact me next time\n"
     ]
    }
   ],
   "source": [
    "run_the_diet_former('Diet_Outputs/diet3.txt')"
   ]
  },
  {
   "cell_type": "markdown",
   "id": "7a9ae544",
   "metadata": {},
   "source": [
    "**Important note**\n",
    "\n",
    "This examples are just for testing purposes, and do not represent real users' requests. In addition, the quality of the output directly depends on the LLM used to run the agents "
   ]
  },
  {
   "cell_type": "code",
   "execution_count": null,
   "id": "6618d101",
   "metadata": {},
   "outputs": [],
   "source": []
  }
 ],
 "metadata": {
  "kernelspec": {
   "display_name": "Python 3",
   "language": "python",
   "name": "python3"
  },
  "language_info": {
   "codemirror_mode": {
    "name": "ipython",
    "version": 3
   },
   "file_extension": ".py",
   "mimetype": "text/x-python",
   "name": "python",
   "nbconvert_exporter": "python",
   "pygments_lexer": "ipython3",
   "version": "3.9.6"
  }
 },
 "nbformat": 4,
 "nbformat_minor": 5
}
